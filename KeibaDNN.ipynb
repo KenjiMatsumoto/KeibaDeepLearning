{
 "cells": [
  {
   "cell_type": "code",
   "execution_count": 6,
   "metadata": {},
   "outputs": [],
   "source": [
    "# 必要なインポートを実施\n",
    "from bs4 import BeautifulSoup\n",
    "import requests\n",
    "import pandas as pd\n",
    "from pandas import Series,DataFrame\n",
    "from datetime import datetime as dt\n",
    "import re"
   ]
  },
  {
   "cell_type": "code",
   "execution_count": 4,
   "metadata": {},
   "outputs": [],
   "source": [
    "# 競馬情報の取得をWebスクレイピングで実施\n",
    "\n",
    "# URLからコンテンツを取得する\n",
    "def url_to_soup(url):\n",
    "    req = requests.get(url)\n",
    "    return BeautifulSoup(req.content, 'html.parser')\n",
    "\n",
    "# 各馬の過去１０レースリンクを取得\n",
    "def horse_page_link(url):\n",
    "    soup = url_to_soup(url)\n",
    "    link_list = [HOME_URL + x.get('href') for x in soup.find_all('a', class_='tx-mid tx-low') ]\n",
    "    return link_list"
   ]
  },
  {
   "cell_type": "code",
   "execution_count": 30,
   "metadata": {},
   "outputs": [
    {
     "name": "stdout",
     "output_type": "stream",
     "text": [
      "2018-08-23 00:00:00\n",
      "<table class=\"tb01 w100pr stripe bg-over\" summary=\"コーナー通過順\">\n",
      "<tr>\n",
      "<th class=\"al-left\" colspan=\"2\" scope=\"row\">コーナー通過順</th>\n",
      "</tr>\n",
      "<tr>\n",
      "<td class=\"al-center\">向正面</td>\n",
      "<td>8,(10,12),6,(1,4,11),5,2,7,9,3</td>\n",
      "</tr>\n",
      "<tr>\n",
      "<td class=\"al-center\">３角</td>\n",
      "<td>8,12,10,6,11,4,1,5,9,(2,7),3</td>\n",
      "</tr>\n",
      "<tr>\n",
      "<td class=\"al-center\">４角</td>\n",
      "<td>8,12,(10,6),(4,11),(1,5),9,2,(7,3)</td>\n",
      "</tr>\n",
      "</table>\n",
      "[['<table class=\"tb01 w100pr stripe bg-over\" summary=\"コーナー通過順\">', '<tr>', '<th class=\"al-left\" colspan=\"2\" scope=\"row\">コーナー通過順</th>', ''], ['', '<tr>', '<td class=\"al-center\">向正面</td>', '<td>8,(10,12),6,(1,4,11),5,2,7,9,3</td>', ''], ['', '<tr>', '<td class=\"al-center\">３角</td>', '<td>8,12,10,6,11,4,1,5,9,(2,7),3</td>', ''], ['', '<tr>', '<td class=\"al-center\">４角</td>', '<td>8,12,(10,6),(4,11),(1,5),9,2,(7,3)</td>', ''], ['', '</table>']]\n"
     ]
    },
    {
     "ename": "KeyError",
     "evalue": "'[10 11 13 14 15 19 23] not in index'",
     "output_type": "error",
     "traceback": [
      "\u001b[0;31m---------------------------------------------------------------------------\u001b[0m",
      "\u001b[0;31mKeyError\u001b[0m                                  Traceback (most recent call last)",
      "\u001b[0;32m<ipython-input-30-626f267352f0>\u001b[0m in \u001b[0;36m<module>\u001b[0;34m()\u001b[0m\n\u001b[1;32m     39\u001b[0m \u001b[0ma\u001b[0m\u001b[0;34m,\u001b[0m \u001b[0mb\u001b[0m\u001b[0;34m,\u001b[0m \u001b[0mc\u001b[0m\u001b[0;34m,\u001b[0m \u001b[0md\u001b[0m \u001b[0;34m=\u001b[0m \u001b[0mresult_data\u001b[0m\u001b[0;34m(\u001b[0m\u001b[0;34m'https://www.nankankeiba.com/result/2018082321060403.do'\u001b[0m\u001b[0;34m)\u001b[0m\u001b[0;34m\u001b[0m\u001b[0m\n\u001b[1;32m     40\u001b[0m \u001b[0mprint\u001b[0m\u001b[0;34m(\u001b[0m\u001b[0md\u001b[0m\u001b[0;34m)\u001b[0m\u001b[0;34m\u001b[0m\u001b[0m\n\u001b[0;32m---> 41\u001b[0;31m \u001b[0mdf\u001b[0m \u001b[0;34m=\u001b[0m \u001b[0mhorse_data\u001b[0m\u001b[0;34m(\u001b[0m\u001b[0;34m'https://www.nankankeiba.com/result/2018082321060403.do'\u001b[0m\u001b[0;34m,\u001b[0m \u001b[0md\u001b[0m\u001b[0;34m)\u001b[0m\u001b[0;34m\u001b[0m\u001b[0m\n\u001b[0m\u001b[1;32m     42\u001b[0m \u001b[0mdf\u001b[0m \u001b[0;34m=\u001b[0m \u001b[0madd_race_data\u001b[0m\u001b[0;34m(\u001b[0m\u001b[0mdf\u001b[0m\u001b[0;34m)\u001b[0m\u001b[0;34m\u001b[0m\u001b[0m\n",
      "\u001b[0;32m<ipython-input-30-626f267352f0>\u001b[0m in \u001b[0;36mhorse_data\u001b[0;34m(url, race_date)\u001b[0m\n\u001b[1;32m     14\u001b[0m     \u001b[0mpre_race_data\u001b[0m \u001b[0;34m=\u001b[0m \u001b[0mget_previous_race_row\u001b[0m\u001b[0;34m(\u001b[0m\u001b[0msoup\u001b[0m\u001b[0;34m)\u001b[0m\u001b[0;34m\u001b[0m\u001b[0m\n\u001b[1;32m     15\u001b[0m     \u001b[0mprint\u001b[0m\u001b[0;34m(\u001b[0m\u001b[0mpre_race_data\u001b[0m\u001b[0;34m)\u001b[0m\u001b[0;34m\u001b[0m\u001b[0m\n\u001b[0;32m---> 16\u001b[0;31m     df = pd.DataFrame(pre_race_data)[1:][[2,3,10,11,13,14,15,19,23]].dropna().rename(columns={\n\u001b[0m\u001b[1;32m     17\u001b[0m         2:'date', 3:'place', 10:'len', 11:'wether', 13:'popularity', 14:'rank', 15:'time',19:'weight',23:'money'})\n\u001b[1;32m     18\u001b[0m     \u001b[0;32mreturn\u001b[0m \u001b[0mdf\u001b[0m\u001b[0;34m\u001b[0m\u001b[0m\n",
      "\u001b[0;32m/anaconda3/lib/python3.6/site-packages/pandas/core/frame.py\u001b[0m in \u001b[0;36m__getitem__\u001b[0;34m(self, key)\u001b[0m\n\u001b[1;32m   2680\u001b[0m         \u001b[0;32mif\u001b[0m \u001b[0misinstance\u001b[0m\u001b[0;34m(\u001b[0m\u001b[0mkey\u001b[0m\u001b[0;34m,\u001b[0m \u001b[0;34m(\u001b[0m\u001b[0mSeries\u001b[0m\u001b[0;34m,\u001b[0m \u001b[0mnp\u001b[0m\u001b[0;34m.\u001b[0m\u001b[0mndarray\u001b[0m\u001b[0;34m,\u001b[0m \u001b[0mIndex\u001b[0m\u001b[0;34m,\u001b[0m \u001b[0mlist\u001b[0m\u001b[0;34m)\u001b[0m\u001b[0;34m)\u001b[0m\u001b[0;34m:\u001b[0m\u001b[0;34m\u001b[0m\u001b[0m\n\u001b[1;32m   2681\u001b[0m             \u001b[0;31m# either boolean or fancy integer index\u001b[0m\u001b[0;34m\u001b[0m\u001b[0;34m\u001b[0m\u001b[0m\n\u001b[0;32m-> 2682\u001b[0;31m             \u001b[0;32mreturn\u001b[0m \u001b[0mself\u001b[0m\u001b[0;34m.\u001b[0m\u001b[0m_getitem_array\u001b[0m\u001b[0;34m(\u001b[0m\u001b[0mkey\u001b[0m\u001b[0;34m)\u001b[0m\u001b[0;34m\u001b[0m\u001b[0m\n\u001b[0m\u001b[1;32m   2683\u001b[0m         \u001b[0;32melif\u001b[0m \u001b[0misinstance\u001b[0m\u001b[0;34m(\u001b[0m\u001b[0mkey\u001b[0m\u001b[0;34m,\u001b[0m \u001b[0mDataFrame\u001b[0m\u001b[0;34m)\u001b[0m\u001b[0;34m:\u001b[0m\u001b[0;34m\u001b[0m\u001b[0m\n\u001b[1;32m   2684\u001b[0m             \u001b[0;32mreturn\u001b[0m \u001b[0mself\u001b[0m\u001b[0;34m.\u001b[0m\u001b[0m_getitem_frame\u001b[0m\u001b[0;34m(\u001b[0m\u001b[0mkey\u001b[0m\u001b[0;34m)\u001b[0m\u001b[0;34m\u001b[0m\u001b[0m\n",
      "\u001b[0;32m/anaconda3/lib/python3.6/site-packages/pandas/core/frame.py\u001b[0m in \u001b[0;36m_getitem_array\u001b[0;34m(self, key)\u001b[0m\n\u001b[1;32m   2724\u001b[0m             \u001b[0;32mreturn\u001b[0m \u001b[0mself\u001b[0m\u001b[0;34m.\u001b[0m\u001b[0m_take\u001b[0m\u001b[0;34m(\u001b[0m\u001b[0mindexer\u001b[0m\u001b[0;34m,\u001b[0m \u001b[0maxis\u001b[0m\u001b[0;34m=\u001b[0m\u001b[0;36m0\u001b[0m\u001b[0;34m)\u001b[0m\u001b[0;34m\u001b[0m\u001b[0m\n\u001b[1;32m   2725\u001b[0m         \u001b[0;32melse\u001b[0m\u001b[0;34m:\u001b[0m\u001b[0;34m\u001b[0m\u001b[0m\n\u001b[0;32m-> 2726\u001b[0;31m             \u001b[0mindexer\u001b[0m \u001b[0;34m=\u001b[0m \u001b[0mself\u001b[0m\u001b[0;34m.\u001b[0m\u001b[0mloc\u001b[0m\u001b[0;34m.\u001b[0m\u001b[0m_convert_to_indexer\u001b[0m\u001b[0;34m(\u001b[0m\u001b[0mkey\u001b[0m\u001b[0;34m,\u001b[0m \u001b[0maxis\u001b[0m\u001b[0;34m=\u001b[0m\u001b[0;36m1\u001b[0m\u001b[0;34m)\u001b[0m\u001b[0;34m\u001b[0m\u001b[0m\n\u001b[0m\u001b[1;32m   2727\u001b[0m             \u001b[0;32mreturn\u001b[0m \u001b[0mself\u001b[0m\u001b[0;34m.\u001b[0m\u001b[0m_take\u001b[0m\u001b[0;34m(\u001b[0m\u001b[0mindexer\u001b[0m\u001b[0;34m,\u001b[0m \u001b[0maxis\u001b[0m\u001b[0;34m=\u001b[0m\u001b[0;36m1\u001b[0m\u001b[0;34m)\u001b[0m\u001b[0;34m\u001b[0m\u001b[0m\n\u001b[1;32m   2728\u001b[0m \u001b[0;34m\u001b[0m\u001b[0m\n",
      "\u001b[0;32m/anaconda3/lib/python3.6/site-packages/pandas/core/indexing.py\u001b[0m in \u001b[0;36m_convert_to_indexer\u001b[0;34m(self, obj, axis, is_setter)\u001b[0m\n\u001b[1;32m   1325\u001b[0m                 \u001b[0;32mif\u001b[0m \u001b[0mmask\u001b[0m\u001b[0;34m.\u001b[0m\u001b[0many\u001b[0m\u001b[0;34m(\u001b[0m\u001b[0;34m)\u001b[0m\u001b[0;34m:\u001b[0m\u001b[0;34m\u001b[0m\u001b[0m\n\u001b[1;32m   1326\u001b[0m                     raise KeyError('{mask} not in index'\n\u001b[0;32m-> 1327\u001b[0;31m                                    .format(mask=objarr[mask]))\n\u001b[0m\u001b[1;32m   1328\u001b[0m \u001b[0;34m\u001b[0m\u001b[0m\n\u001b[1;32m   1329\u001b[0m                 \u001b[0;32mreturn\u001b[0m \u001b[0mcom\u001b[0m\u001b[0;34m.\u001b[0m\u001b[0m_values_from_object\u001b[0m\u001b[0;34m(\u001b[0m\u001b[0mindexer\u001b[0m\u001b[0;34m)\u001b[0m\u001b[0;34m\u001b[0m\u001b[0m\n",
      "\u001b[0;31mKeyError\u001b[0m: '[10 11 13 14 15 19 23] not in index'"
     ]
    }
   ],
   "source": [
    "p = re.compile(\"\")\n",
    "tag_to_text = lambda x: p.sub(\"\", x).split('\\n') \n",
    "split_tr = lambda x: str(x).split('</tr>')\n",
    "\n",
    "def get_previous_race_row(soup):\n",
    "    race_table = soup.select(\"table.tb01\")[2]\n",
    "    print(race_table)\n",
    "    return [tag_to_text(x)  for x in split_tr(race_table)]\n",
    "\n",
    "def horse_data(url, race_date):\n",
    "    soup = url_to_soup(url)\n",
    "\n",
    "    # 過去のレースデータ\n",
    "    pre_race_data = get_previous_race_row(soup)\n",
    "    print(pre_race_data)\n",
    "    df = pd.DataFrame(pre_race_data)[1:][[2,3,10,11,13,14,15,19,23]].dropna().rename(columns={\n",
    "        2:'date', 3:'place', 10:'len', 11:'wether', 13:'popularity', 14:'rank', 15:'time',19:'weight',23:'money'})\n",
    "    return df\n",
    "\n",
    "def result_data(url):\n",
    "    soup = url_to_soup(url)\n",
    "\n",
    "    # 土の状態\n",
    "    condition = soup.find(id=\"race-data02\").get_text().replace('\\n','').split(';')[1].split('　')[2][0:2]\n",
    "\n",
    "    # レースの長さ\n",
    "    race_len = int(soup.find(id=\"race-data01-a\").get_text().replace('\\n','').split('　')[3].replace(',','')[1:4])\n",
    "\n",
    "    # 1位の馬番\n",
    "    p = re.compile('<td class=\"al-center\">')\n",
    "    hukusyo_list = []\n",
    "    hukusyo_list.append(int(p.sub(\"\", str(soup.find_all('tr', class_='bg-1chaku')[0]).split('</td>')[2]).replace('\\n','') ))\n",
    "\n",
    "    # レース日\n",
    "    race_date_str = soup.find(id=\"race-data01-a\").get_text().replace('\\n','').split(';')[0].split('日')[0]\n",
    "    race_date = dt.strptime(race_date_str, '%Y年%m月%d')\n",
    "    return hukusyo_list, condition, race_len, race_date\n",
    "\n",
    "a, b, c, d = result_data('https://www.nankankeiba.com/result/2018082321060403.do')\n",
    "print(d)\n",
    "df = horse_data('https://www.nankankeiba.com/result/2018082321060403.do', d)\n",
    "df = add_race_data(df)"
   ]
  },
  {
   "cell_type": "code",
   "execution_count": 29,
   "metadata": {},
   "outputs": [],
   "source": [
    "# 馬場状態のカラム内容を文字列によって変更する\n",
    "def add_soil_columns(row):\n",
    "        row['soil_heavy'] = 1 if row['wether'][-2:] =='/重'  else 0\n",
    "        row['soil_s_heavy'] = 1 if row['wether'][-2:] =='稍重'  else 0\n",
    "        row['soil_good'] = 1 if row['wether'][-2:] =='/良'  else 0\n",
    "        row['soil_bad'] = 1 if row['wether'][-2:] =='不良'  else 0\n",
    "        return row\n",
    "\n",
    "# レースデータのカラムを加工\n",
    "def add_race_data(df):\n",
    "    df_ =pd.DataFrame()\n",
    "    for idx, row in df.iterrows():\n",
    "        if row['popularity'] == '':\n",
    "            continue\n",
    "\n",
    "        # 馬場状態\n",
    "        row = add_soil_columns(row)\n",
    "\n",
    "        row['money']=int(row['money'].replace(',','')) \n",
    "        row['horse_cnt'] = int(row['rank'].split('/')[1])\n",
    "        row['result_rank'] = int(row['rank'].split('/')[0])\n",
    "        row['len'] = int(row['len'][0:4])\n",
    "        row['popularity'] = int(row['popularity'])\n",
    "        row['weight'] = int(row['weight'])\n",
    "\n",
    "        # 　競馬場の一致\n",
    "        row['same_place'] = 1 if row['place'].startswith(PLACE)  else 0\n",
    "\n",
    "        # タイム(秒)\n",
    "        try:\n",
    "            time = datetime.datetime.strptime(row['time'], '%M:%S.%f')\n",
    "            row['sec'] = time.minute*60 + time.second + time.microsecond/1000000 \n",
    "        except ValueError:\n",
    "            time = datetime.datetime.strptime(row['time'], '%S.%f')\n",
    "            row['sec'] = time.second + time.microsecond/1000000\n",
    "\n",
    "        row['sec'] = int(row['sec']) \n",
    "\n",
    "        df_ = df_.append(row, ignore_index=True)\n",
    "    return df_"
   ]
  },
  {
   "cell_type": "code",
   "execution_count": null,
   "metadata": {},
   "outputs": [],
   "source": []
  }
 ],
 "metadata": {
  "kernelspec": {
   "display_name": "Python 3",
   "language": "python",
   "name": "python3"
  },
  "language_info": {
   "codemirror_mode": {
    "name": "ipython",
    "version": 3
   },
   "file_extension": ".py",
   "mimetype": "text/x-python",
   "name": "python",
   "nbconvert_exporter": "python",
   "pygments_lexer": "ipython3",
   "version": "3.6.5"
  }
 },
 "nbformat": 4,
 "nbformat_minor": 2
}
